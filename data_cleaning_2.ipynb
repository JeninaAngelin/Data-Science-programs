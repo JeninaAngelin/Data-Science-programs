{
 "cells": [
  {
   "cell_type": "code",
   "execution_count": 1,
   "metadata": {},
   "outputs": [],
   "source": [
    "import numpy as np\n",
    "from scipy.ndimage import median_filter\n",
    "from sklearn.linear_model import RANSACRegressor\n",
    "from filterpy.kalman import KalmanFilter"
   ]
  },
  {
   "cell_type": "code",
   "execution_count": 3,
   "metadata": {},
   "outputs": [],
   "source": [
    "def remove_outliers(data, threshold=3):\n",
    "    mean = np.mean(data)\n",
    "    std = np.std(data)\n",
    "    filtered_data = [x for x in data if (mean -threshold * std <x< mean + threshold * std)]\n",
    "    return filtered_data"
   ]
  },
  {
   "cell_type": "code",
   "execution_count": 4,
   "metadata": {},
   "outputs": [],
   "source": [
    "def apply_median_filter(data, filter_size=3):\n",
    "    filtered_data = median_filter(data, size=filter_size)\n",
    "    return filtered_data"
   ]
  },
  {
   "cell_type": "code",
   "execution_count": 9,
   "metadata": {},
   "outputs": [],
   "source": [
    "# Smoothing using Moving Average\n",
    "def apply_moving_average(data, window_size=3):\n",
    "    cumsum = np.cumsum(np.insert(data, 0, 0))\n",
    "    smoothed_data = (cumsum[window_size:] - cumsum[:-window_size]) / float(window_size)\n",
    "    return smoothed_data"
   ]
  },
  {
   "cell_type": "code",
   "execution_count": 10,
   "metadata": {},
   "outputs": [],
   "source": [
    "# Robust Regression\n",
    "def perform_robust_regression(x, y):\n",
    "    ransac = RANSACRegressor()\n",
    "    ransac.fit(x.reshape(-1, 1), y.reshape(-1, 1))\n",
    "    inlier_mask = ransac.inlier_mask_\n",
    "    outlier_mask = np.logical_not(inlier_mask)\n",
    "    inlier_x = x[inlier_mask]\n",
    "    inlier_y = y[inlier_mask]\n",
    "    outlier_x = x[outlier_mask]\n",
    "    outlier_y= y[outlier_mask]\n",
    "    return inlier_x, inlier_y, outlier_x, outlier_y"
   ]
  },
  {
   "cell_type": "code",
   "execution_count": 11,
   "metadata": {},
   "outputs": [],
   "source": [
    "def apply_kalman_filter(data, measurement_noise, process_noise):\n",
    "    kf = KalmanFilter(dim_x=2, dim_z=1)\n",
    "    kf.x = np.array([data[0], 0]) # Initial state: (position, velocity]\n",
    "    kf.P *= 1000\n",
    "    kf.R = measurement_noise # Measurement noise covariance\n",
    "    kf.Q = process_noise # Process noise covariance\n",
    "    kf.F = np.array([[1, 1], [0, 1]]) # State transition matrix\n",
    "    kf.H = np.array([[1, 0]]) # Measurement matrix\n",
    "    filtered_data = []\n",
    "    for measurement in data:\n",
    "        kf.predict()\n",
    "        kf.update(np.array([measurement]))\n",
    "        filtered_data.append(kf.x[0])\n",
    "\n",
    "    return filtered_data"
   ]
  },
  {
   "cell_type": "code",
   "execution_count": 12,
   "metadata": {},
   "outputs": [
    {
     "name": "stdout",
     "output_type": "stream",
     "text": [
      "Outlier Removed Data: [1, 2, 3, 100, 4, 5, 200, 6, 7, 8]\n",
      "Median Filtered Data: [1 2 3 4 5 5 6 7 7 8]\n",
      "Moving Average Data: [ 2.         35.         35.66666667 36.33333333 69.66666667 70.33333333\n",
      " 71.          7.        ]\n",
      "Inliers:\n",
      "x: 1, y: 10\n",
      "x: 2, y: 20\n",
      "x: 3, y: 30\n",
      "x: 5, y: 50\n",
      "x: 6, y: 60\n",
      "x: 8, y: 80\n",
      "Outliers:\n",
      "x: 4, y: 400\n",
      "x: 7, y: 700\n",
      "Original Data: [1, 2, 3, 100, 4, 5, 200, 6, 7, 8]\n",
      "Kalman Filtered Data: [1.0, 1.9980134053394396, 2.998855729700037, 72.36135112417385, 41.010240338180175, 22.810255784942303, 121.72816285454566, 73.23879693616827, 38.23647082340259, 16.572248135413915]\n"
     ]
    }
   ],
   "source": [
    "data = [1, 2, 3, 100, 4, 5, 200, 6, 7, 8]\n",
    "# Outlier Removal\n",
    "outlier_removed_data = remove_outliers(data)\n",
    "print(\"Outlier Removed Data:\", outlier_removed_data)\n",
    "# Median Filtering\n",
    "median_filtered_data = apply_median_filter(data)\n",
    "print(\"Median Filtered Data:\", median_filtered_data)\n",
    "# Smoothing using Moving Average\n",
    "moving_average_data = apply_moving_average(data)\n",
    "print(\"Moving Average Data:\", moving_average_data)\n",
    "# Robust Regression\n",
    "x= np.array([1, 2, 3, 4, 5, 6, 7, 8])\n",
    "y= np.array([10, 20, 30, 400, 50, 60, 700, 80])\n",
    "inlier_x, inlier_y, outlier_x, outlier_y= perform_robust_regression(x, y)\n",
    "print(\"Inliers:\")\n",
    "for i in range(len(inlier_x)):\n",
    "    print(f\"x: {inlier_x[i]}, y: {inlier_y[i]}\")\n",
    "print(\"Outliers:\")\n",
    "for i in range(len(outlier_x)):\n",
    "    print(f\"x: {outlier_x[i]}, y: {outlier_y[i]}\")\n",
    "# Kalman Filtering\n",
    "data = [1, 2, 3, 100, 4, 5, 200, 6, 7, 8]\n",
    "measurement_noise = 1.0\n",
    "process_noise = 0.1\n",
    "kalman_filtered_data = apply_kalman_filter(data, measurement_noise, process_noise)\n",
    "print(\"Original Data:\", data)\n",
    "print(\"Kalman Filtered Data:\", kalman_filtered_data)"
   ]
  },
  {
   "cell_type": "code",
   "execution_count": null,
   "metadata": {},
   "outputs": [],
   "source": []
  }
 ],
 "metadata": {
  "kernelspec": {
   "display_name": "Python 3",
   "language": "python",
   "name": "python3"
  },
  "language_info": {
   "codemirror_mode": {
    "name": "ipython",
    "version": 3
   },
   "file_extension": ".py",
   "mimetype": "text/x-python",
   "name": "python",
   "nbconvert_exporter": "python",
   "pygments_lexer": "ipython3",
   "version": "3.10.6"
  },
  "orig_nbformat": 4
 },
 "nbformat": 4,
 "nbformat_minor": 2
}
