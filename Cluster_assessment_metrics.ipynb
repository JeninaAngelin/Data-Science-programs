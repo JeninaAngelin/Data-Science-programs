{
  "nbformat": 4,
  "nbformat_minor": 0,
  "metadata": {
    "colab": {
      "provenance": []
    },
    "kernelspec": {
      "name": "python3",
      "display_name": "Python 3"
    },
    "language_info": {
      "name": "python"
    }
  },
  "cells": [
    {
      "cell_type": "markdown",
      "source": [
        "Silhouette Score\n",
        "The Silhouette Score and Silhouette Plot are used to measure the separation distance between clusters. It displays a measure of how close each point in a cluster is to points in the neighbouring clusters.\n",
        "\n",
        "Rand Index\n",
        "It computes a similarity measure between two clusters by considering all pairs of samples and counting pairs that are assigned in the same or different clusters in the predicted and true clusterings.\n",
        "\n",
        "Adjusted Rand Index\n",
        "Rand index adjusted for chance.The Rand Index computes a similarity measure between two clusterings by considering all pairs of samples and counting pairs that are assigned in the same or different clusters in the predicted and true clusterings.\n",
        "\n",
        "Mutual Information\n",
        "The Mutual Information is another metric often used in evaluating the performance of Clustering algorithms. It is a measure of the similarity between two labels of the same data.\n",
        "\n",
        "Calinski-Harabasz Index\n",
        "Variance Ratio Criterion.\n",
        "The score is defined as the ratio between the within-cluster dispersion and the between-cluster dispersion.\n",
        "\n",
        "Davies-Bouldin Index\n",
        "The Davies-Bouldin Index is defined as the average similarity measure of each cluster with its most similar cluster. Similarity is the ratio of within-cluster distances to between-cluster distances."
      ],
      "metadata": {
        "id": "pkuG7ehJJlKx"
      }
    },
    {
      "cell_type": "code",
      "execution_count": 1,
      "metadata": {
        "id": "LEvG1q9-E5WF"
      },
      "outputs": [],
      "source": [
        "from sklearn.cluster import KMeans\n",
        "from sklearn.metrics import silhouette_score, adjusted_rand_score, davies_bouldin_score\n",
        "from sklearn.datasets import load_iris"
      ]
    },
    {
      "cell_type": "code",
      "source": [
        "iris = load_iris()\n",
        "data = iris.data\n",
        "kmeans = KMeans(n_clusters=3)\n",
        "kmeans.fit(data)\n",
        "labels = kmeans.labels_"
      ],
      "metadata": {
        "colab": {
          "base_uri": "https://localhost:8080/"
        },
        "id": "aYTa3YMLE-uU",
        "outputId": "d0006220-6615-4c7e-cae9-8700ba55a61a"
      },
      "execution_count": 2,
      "outputs": [
        {
          "output_type": "stream",
          "name": "stderr",
          "text": [
            "/usr/local/lib/python3.10/dist-packages/sklearn/cluster/_kmeans.py:870: FutureWarning: The default value of `n_init` will change from 10 to 'auto' in 1.4. Set the value of `n_init` explicitly to suppress the warning\n",
            "  warnings.warn(\n"
          ]
        }
      ]
    },
    {
      "cell_type": "code",
      "source": [
        "silhouette = silhouette_score(data, labels)\n",
        "rand_index = adjusted_rand_score(iris.target, labels)\n",
        "davies_bouldin = davies_bouldin_score(data, labels)\n",
        "wcss = kmeans.inertia_\n",
        "print(\"Silhouette Score:\", silhouette)\n",
        "print(\"Rand Index:\", rand_index)\n",
        "print(\"Davies-Bouldin Index:\", davies_bouldin)\n",
        "print(\"Within-Cluster Sum of Squares (WCSS):\", wcss)"
      ],
      "metadata": {
        "colab": {
          "base_uri": "https://localhost:8080/"
        },
        "id": "YpvuOuzaFErW",
        "outputId": "498e62f7-e44b-40b2-d39f-5e159ceaf43b"
      },
      "execution_count": 3,
      "outputs": [
        {
          "output_type": "stream",
          "name": "stdout",
          "text": [
            "Silhouette Score: 0.5528190123564095\n",
            "Rand Index: 0.7302382722834697\n",
            "Davies-Bouldin Index: 0.6619715465007465\n",
            "Within-Cluster Sum of Squares (WCSS): 78.851441426146\n"
          ]
        }
      ]
    },
    {
      "cell_type": "code",
      "source": [],
      "metadata": {
        "id": "V7uumBBWK-JI"
      },
      "execution_count": null,
      "outputs": []
    }
  ]
}